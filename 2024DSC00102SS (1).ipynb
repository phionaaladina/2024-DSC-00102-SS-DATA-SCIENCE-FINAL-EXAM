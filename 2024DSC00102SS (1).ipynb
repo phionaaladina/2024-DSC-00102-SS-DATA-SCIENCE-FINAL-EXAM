{
 "cells": [
  {
   "cell_type": "markdown",
   "id": "75db8854-92f6-4bea-8a10-780f9dd41f1a",
   "metadata": {},
   "source": [
    " ## 1. Variation and variability:\n",
    "#### A random sample of 10,000 observational cases are taken from 2020 US Census data on income. The response variable: yearly income ($). Note that the data has been cleaned to remove people who were not employed and/or income was reported as 0. Thus, n = 4,365.\n"
   ]
  },
  {
   "cell_type": "code",
   "execution_count": 30,
   "id": "9b24f5a5-39b5-4f06-870b-58be91bba957",
   "metadata": {},
   "outputs": [],
   "source": [
    "import pandas as pd"
   ]
  },
  {
   "cell_type": "code",
   "execution_count": 31,
   "id": "4714494a-3af5-4ac0-aab5-838df8799f2c",
   "metadata": {},
   "outputs": [],
   "source": [
    "census_df = pd.read_excel('Wages_2020Census_cleaned.xlsx') "
   ]
  },
  {
   "cell_type": "code",
   "execution_count": 32,
   "id": "eb2d1df3-a728-44b1-8e9d-dea474f19bf0",
   "metadata": {},
   "outputs": [
    {
     "data": {
      "text/html": [
       "<div>\n",
       "<style scoped>\n",
       "    .dataframe tbody tr th:only-of-type {\n",
       "        vertical-align: middle;\n",
       "    }\n",
       "\n",
       "    .dataframe tbody tr th {\n",
       "        vertical-align: top;\n",
       "    }\n",
       "\n",
       "    .dataframe thead th {\n",
       "        text-align: right;\n",
       "    }\n",
       "</style>\n",
       "<table border=\"1\" class=\"dataframe\">\n",
       "  <thead>\n",
       "    <tr style=\"text-align: right;\">\n",
       "      <th></th>\n",
       "      <th>Age</th>\n",
       "      <th>Sex</th>\n",
       "      <th>Marital_status</th>\n",
       "      <th>Number_of_children</th>\n",
       "      <th>Family_size</th>\n",
       "      <th>Education-degree_recode</th>\n",
       "      <th>Education-degree_recode 2</th>\n",
       "      <th>Education</th>\n",
       "      <th>Race_ethnicity-multi_recode</th>\n",
       "      <th>Immigrate-year</th>\n",
       "      <th>Birthplace_recode</th>\n",
       "      <th>Speaks_English</th>\n",
       "      <th>Employment_status</th>\n",
       "      <th>Income-wages</th>\n",
       "      <th>Region_recode</th>\n",
       "      <th>Region-division_recode</th>\n",
       "      <th>Moved</th>\n",
       "      <th>Year</th>\n",
       "      <th>state</th>\n",
       "    </tr>\n",
       "  </thead>\n",
       "  <tbody>\n",
       "    <tr>\n",
       "      <th>0</th>\n",
       "      <td>30</td>\n",
       "      <td>Male</td>\n",
       "      <td>Married, spouse present</td>\n",
       "      <td>2</td>\n",
       "      <td>4</td>\n",
       "      <td>Masterâ€™s or professional degree</td>\n",
       "      <td>Master or professional degree</td>\n",
       "      <td>Master or PhD or professional degree</td>\n",
       "      <td>Non-Hispanic White</td>\n",
       "      <td>0</td>\n",
       "      <td>U.S. state, territory, or outlying region</td>\n",
       "      <td>Yes, speaks only English</td>\n",
       "      <td>Employed</td>\n",
       "      <td>63000</td>\n",
       "      <td>South</td>\n",
       "      <td>East South Central</td>\n",
       "      <td>Same house</td>\n",
       "      <td>2020</td>\n",
       "      <td>Tennessee</td>\n",
       "    </tr>\n",
       "    <tr>\n",
       "      <th>1</th>\n",
       "      <td>28</td>\n",
       "      <td>Female</td>\n",
       "      <td>Married, spouse present</td>\n",
       "      <td>1 child present</td>\n",
       "      <td>3</td>\n",
       "      <td>Masterâ€™s or professional degree</td>\n",
       "      <td>Master or professional degree</td>\n",
       "      <td>Master or PhD or professional degree</td>\n",
       "      <td>Non-Hispanic White</td>\n",
       "      <td>0</td>\n",
       "      <td>U.S. state, territory, or outlying region</td>\n",
       "      <td>Yes, speaks only English</td>\n",
       "      <td>Employed</td>\n",
       "      <td>46000</td>\n",
       "      <td>South</td>\n",
       "      <td>East South Central</td>\n",
       "      <td>Same house</td>\n",
       "      <td>2020</td>\n",
       "      <td>Tennessee</td>\n",
       "    </tr>\n",
       "    <tr>\n",
       "      <th>2</th>\n",
       "      <td>34</td>\n",
       "      <td>Male</td>\n",
       "      <td>Married, spouse present</td>\n",
       "      <td>1 child present</td>\n",
       "      <td>3</td>\n",
       "      <td>Bachelorâ€™s degree</td>\n",
       "      <td>Bachelor degree</td>\n",
       "      <td>Associate or Bachelor degree</td>\n",
       "      <td>Non-Hispanic White</td>\n",
       "      <td>0</td>\n",
       "      <td>U.S. state, territory, or outlying region</td>\n",
       "      <td>Yes, speaks only English</td>\n",
       "      <td>Employed</td>\n",
       "      <td>45000</td>\n",
       "      <td>South</td>\n",
       "      <td>East South Central</td>\n",
       "      <td>Same house</td>\n",
       "      <td>2020</td>\n",
       "      <td>Tennessee</td>\n",
       "    </tr>\n",
       "    <tr>\n",
       "      <th>3</th>\n",
       "      <td>58</td>\n",
       "      <td>Female</td>\n",
       "      <td>Married, spouse absent</td>\n",
       "      <td>1 child present</td>\n",
       "      <td>2</td>\n",
       "      <td>1 or more years of college, no degree</td>\n",
       "      <td>1 or more years of college, no degree</td>\n",
       "      <td>1 or more years of college, no degree</td>\n",
       "      <td>Non-Hispanic White</td>\n",
       "      <td>0</td>\n",
       "      <td>U.S. state, territory, or outlying region</td>\n",
       "      <td>Yes, speaks only English</td>\n",
       "      <td>Employed</td>\n",
       "      <td>55000</td>\n",
       "      <td>South</td>\n",
       "      <td>East South Central</td>\n",
       "      <td>Same house</td>\n",
       "      <td>2020</td>\n",
       "      <td>Tennessee</td>\n",
       "    </tr>\n",
       "    <tr>\n",
       "      <th>4</th>\n",
       "      <td>39</td>\n",
       "      <td>Male</td>\n",
       "      <td>Never married/single</td>\n",
       "      <td>0 children present</td>\n",
       "      <td>1</td>\n",
       "      <td>Bachelorâ€™s degree</td>\n",
       "      <td>Bachelor degree</td>\n",
       "      <td>Associate or Bachelor degree</td>\n",
       "      <td>Non-Hispanic White</td>\n",
       "      <td>0</td>\n",
       "      <td>U.S. state, territory, or outlying region</td>\n",
       "      <td>Yes, speaks only English</td>\n",
       "      <td>Employed</td>\n",
       "      <td>12000</td>\n",
       "      <td>South</td>\n",
       "      <td>East South Central</td>\n",
       "      <td>Same house</td>\n",
       "      <td>2020</td>\n",
       "      <td>Tennessee</td>\n",
       "    </tr>\n",
       "  </tbody>\n",
       "</table>\n",
       "</div>"
      ],
      "text/plain": [
       "   Age     Sex           Marital_status  Number_of_children  Family_size  \\\n",
       "0   30    Male  Married, spouse present                   2            4   \n",
       "1   28  Female  Married, spouse present     1 child present            3   \n",
       "2   34    Male  Married, spouse present     1 child present            3   \n",
       "3   58  Female   Married, spouse absent     1 child present            2   \n",
       "4   39    Male     Never married/single  0 children present            1   \n",
       "\n",
       "                 Education-degree_recode  \\\n",
       "0      Masterâ€™s or professional degree   \n",
       "1      Masterâ€™s or professional degree   \n",
       "2                    Bachelorâ€™s degree   \n",
       "3  1 or more years of college, no degree   \n",
       "4                    Bachelorâ€™s degree   \n",
       "\n",
       "               Education-degree_recode 2  \\\n",
       "0          Master or professional degree   \n",
       "1          Master or professional degree   \n",
       "2                        Bachelor degree   \n",
       "3  1 or more years of college, no degree   \n",
       "4                        Bachelor degree   \n",
       "\n",
       "                               Education Race_ethnicity-multi_recode  \\\n",
       "0   Master or PhD or professional degree          Non-Hispanic White   \n",
       "1   Master or PhD or professional degree          Non-Hispanic White   \n",
       "2           Associate or Bachelor degree          Non-Hispanic White   \n",
       "3  1 or more years of college, no degree          Non-Hispanic White   \n",
       "4           Associate or Bachelor degree          Non-Hispanic White   \n",
       "\n",
       "   Immigrate-year                          Birthplace_recode  \\\n",
       "0               0  U.S. state, territory, or outlying region   \n",
       "1               0  U.S. state, territory, or outlying region   \n",
       "2               0  U.S. state, territory, or outlying region   \n",
       "3               0  U.S. state, territory, or outlying region   \n",
       "4               0  U.S. state, territory, or outlying region   \n",
       "\n",
       "             Speaks_English Employment_status  Income-wages Region_recode  \\\n",
       "0  Yes, speaks only English          Employed         63000         South   \n",
       "1  Yes, speaks only English          Employed         46000         South   \n",
       "2  Yes, speaks only English          Employed         45000         South   \n",
       "3  Yes, speaks only English          Employed         55000         South   \n",
       "4  Yes, speaks only English          Employed         12000         South   \n",
       "\n",
       "  Region-division_recode       Moved  Year      state  \n",
       "0     East South Central  Same house  2020  Tennessee  \n",
       "1     East South Central  Same house  2020  Tennessee  \n",
       "2     East South Central  Same house  2020  Tennessee  \n",
       "3     East South Central  Same house  2020  Tennessee  \n",
       "4     East South Central  Same house  2020  Tennessee  "
      ]
     },
     "execution_count": 32,
     "metadata": {},
     "output_type": "execute_result"
    }
   ],
   "source": [
    "census_df.head()"
   ]
  },
  {
   "cell_type": "code",
   "execution_count": 9,
   "id": "9472746c-164f-4423-8b8b-ebf644c0cfa1",
   "metadata": {},
   "outputs": [
    {
     "data": {
      "text/plain": [
       "Index(['Age', 'Sex', 'Marital_status', 'Number_of_children', 'Family_size',\n",
       "       'Education-degree_recode', 'Education-degree_recode 2', 'Education',\n",
       "       'Race_ethnicity-multi_recode', 'Immigrate-year', 'Birthplace_recode',\n",
       "       'Speaks_English', 'Employment_status', 'Income-wages', 'Region_recode',\n",
       "       'Region-division_recode', 'Moved', 'Year', 'state'],\n",
       "      dtype='object')"
      ]
     },
     "execution_count": 9,
     "metadata": {},
     "output_type": "execute_result"
    }
   ],
   "source": [
    "census_df.columns"
   ]
  },
  {
   "cell_type": "markdown",
   "id": "c4b42168-e580-4f74-a413-58542bb82e01",
   "metadata": {},
   "source": [
    "### (a) What is a ’typical’ yearly income for these 4,365 people? (3 marks)"
   ]
  },
  {
   "cell_type": "code",
   "execution_count": 10,
   "id": "1d9e99f7-1b46-43f9-99bc-188832d79985",
   "metadata": {},
   "outputs": [
    {
     "name": "stdout",
     "output_type": "stream",
     "text": [
      "Mean Yearly Income: 58704.16494845361\n",
      "Median Yearly Income: 41000.0\n"
     ]
    }
   ],
   "source": [
    "# Compute the mean and median of the 'income' column\n",
    "mean_income = census_df['Income-wages'].mean()\n",
    "median_income = census_df['Income-wages'].median()\n",
    "\n",
    "# Display the results\n",
    "print(\"Mean Yearly Income:\", mean_income)\n",
    "print(\"Median Yearly Income:\", median_income)\n",
    "\n"
   ]
  },
  {
   "cell_type": "markdown",
   "id": "7d80feac-d84f-484d-9b96-eb847d35bc72",
   "metadata": {},
   "source": [
    "### (b) Do the yearly incomes of these 4,365 people vary? How do you know? (2 marks)"
   ]
  },
  {
   "cell_type": "code",
   "execution_count": 15,
   "id": "171a5101-6af8-41fc-a23a-8df0404a5d27",
   "metadata": {
    "scrolled": true
   },
   "outputs": [
    {
     "name": "stdout",
     "output_type": "stream",
     "text": [
      "Range of Yearly Incomes: 660970\n",
      "Standard Deviation of Incomes: 68338.0614351565\n",
      "Interquartile Range (IQR): 49000.0\n"
     ]
    }
   ],
   "source": [
    "income_range = census_df['Income-wages'].max() - census_df['Income-wages'].min()\n",
    "std_dev = census_df['Income-wages'].std()\n",
    "iqr = census_df['Income-wages'].quantile(0.75) - census_df['Income-wages'].quantile(0.25)\n",
    "\n",
    "print(\"Range of Yearly Incomes:\", income_range)\n",
    "print(\"Standard Deviation of Incomes:\", std_dev)\n",
    "print(\"Interquartile Range (IQR):\", iqr)\n"
   ]
  },
  {
   "cell_type": "markdown",
   "id": "6bfd9568-6c1a-49fe-8902-dbd5105fea5c",
   "metadata": {},
   "source": [
    "### (c) What would the values of the standard deviation and IQR be if there was no variability in yearly income for these 4,365 people? "
   ]
  },
  {
   "cell_type": "code",
   "execution_count": null,
   "id": "4609d9cb-f4a7-414c-a7af-f9aa572980be",
   "metadata": {},
   "outputs": [],
   "source": []
  },
  {
   "cell_type": "markdown",
   "id": "322a31d3-c857-489e-a8f4-60887e23097b",
   "metadata": {},
   "source": [
    "###  (d) What would the values of the mean, median, Q1, Q3, minimum and maximum yearly incomes be if there was no variability? (5 marks"
   ]
  },
  {
   "cell_type": "code",
   "execution_count": null,
   "id": "6999374c-c2ba-4f08-aa6d-f3ac62d78572",
   "metadata": {},
   "outputs": [],
   "source": []
  },
  {
   "cell_type": "markdown",
   "id": "c1d299af-919e-4f13-a629-079581bc9e5b",
   "metadata": {},
   "source": [
    "### (e) What do you think are some possible causes or reasons or potential sources of the variability in the yearly incomes of these 4,365 people? (Hint: Perform bivariate analysis leveraging boxplots between response variable and education level, region of the US. Provide an explanation of your thinking with numerical support)"
   ]
  },
  {
   "cell_type": "code",
   "execution_count": null,
   "id": "4d3b1c75-76cd-4646-8bb2-9d6fa0198c54",
   "metadata": {},
   "outputs": [],
   "source": []
  },
  {
   "cell_type": "code",
   "execution_count": null,
   "id": "26ea387d-0765-4fde-92d8-af9d8f23a865",
   "metadata": {},
   "outputs": [],
   "source": []
  },
  {
   "cell_type": "markdown",
   "id": "b79ce5ef-fb1f-4b6d-ae67-577bfc0f2a62",
   "metadata": {},
   "source": [
    "https://www.scribbr.com/statistics/variability/"
   ]
  },
  {
   "cell_type": "code",
   "execution_count": null,
   "id": "abaf29e4-ddc8-4d34-80e8-519767f0c3a0",
   "metadata": {},
   "outputs": [],
   "source": []
  },
  {
   "cell_type": "markdown",
   "id": "b8a6ac41-d153-40f1-9245-7381f8051a8f",
   "metadata": {},
   "source": [
    "# 2. Exploratory Data Analysis:\n",
    "### The student performance dataset provides a detailed overview of student performance in various schools, focusing on academic achievements and demographic factors."
   ]
  },
  {
   "cell_type": "code",
   "execution_count": 1,
   "id": "f028c8d5-9d9b-4213-9c42-e85ec8b295f2",
   "metadata": {},
   "outputs": [],
   "source": [
    "#import libraries\n",
    "import pandas as pd"
   ]
  },
  {
   "cell_type": "code",
   "execution_count": 2,
   "id": "65dd8091-2721-47a8-9aa0-31a68678ab56",
   "metadata": {},
   "outputs": [
    {
     "data": {
      "text/html": [
       "<div>\n",
       "<style scoped>\n",
       "    .dataframe tbody tr th:only-of-type {\n",
       "        vertical-align: middle;\n",
       "    }\n",
       "\n",
       "    .dataframe tbody tr th {\n",
       "        vertical-align: top;\n",
       "    }\n",
       "\n",
       "    .dataframe thead th {\n",
       "        text-align: right;\n",
       "    }\n",
       "</style>\n",
       "<table border=\"1\" class=\"dataframe\">\n",
       "  <thead>\n",
       "    <tr style=\"text-align: right;\">\n",
       "      <th></th>\n",
       "      <th>StudentID</th>\n",
       "      <th>Gender</th>\n",
       "      <th>Age</th>\n",
       "      <th>StudyHoursPerWeek</th>\n",
       "      <th>AttendanceRate</th>\n",
       "      <th>GPA</th>\n",
       "      <th>Major</th>\n",
       "      <th>PartTimeJob</th>\n",
       "      <th>ExtraCurricularActivities</th>\n",
       "    </tr>\n",
       "  </thead>\n",
       "  <tbody>\n",
       "    <tr>\n",
       "      <th>0</th>\n",
       "      <td>1</td>\n",
       "      <td>Male</td>\n",
       "      <td>24</td>\n",
       "      <td>37</td>\n",
       "      <td>90.75</td>\n",
       "      <td>3.47</td>\n",
       "      <td>Arts</td>\n",
       "      <td>Yes</td>\n",
       "      <td>No</td>\n",
       "    </tr>\n",
       "    <tr>\n",
       "      <th>1</th>\n",
       "      <td>2</td>\n",
       "      <td>Female</td>\n",
       "      <td>22</td>\n",
       "      <td>37</td>\n",
       "      <td>74.90</td>\n",
       "      <td>2.32</td>\n",
       "      <td>Education</td>\n",
       "      <td>No</td>\n",
       "      <td>No</td>\n",
       "    </tr>\n",
       "    <tr>\n",
       "      <th>2</th>\n",
       "      <td>3</td>\n",
       "      <td>Male</td>\n",
       "      <td>22</td>\n",
       "      <td>10</td>\n",
       "      <td>53.36</td>\n",
       "      <td>2.38</td>\n",
       "      <td>Business</td>\n",
       "      <td>No</td>\n",
       "      <td>No</td>\n",
       "    </tr>\n",
       "    <tr>\n",
       "      <th>3</th>\n",
       "      <td>4</td>\n",
       "      <td>Male</td>\n",
       "      <td>24</td>\n",
       "      <td>10</td>\n",
       "      <td>70.26</td>\n",
       "      <td>3.46</td>\n",
       "      <td>Science</td>\n",
       "      <td>Yes</td>\n",
       "      <td>No</td>\n",
       "    </tr>\n",
       "    <tr>\n",
       "      <th>4</th>\n",
       "      <td>5</td>\n",
       "      <td>Male</td>\n",
       "      <td>18</td>\n",
       "      <td>19</td>\n",
       "      <td>74.87</td>\n",
       "      <td>2.31</td>\n",
       "      <td>Education</td>\n",
       "      <td>Yes</td>\n",
       "      <td>No</td>\n",
       "    </tr>\n",
       "  </tbody>\n",
       "</table>\n",
       "</div>"
      ],
      "text/plain": [
       "   StudentID  Gender  Age  StudyHoursPerWeek  AttendanceRate   GPA      Major  \\\n",
       "0          1    Male   24                 37           90.75  3.47       Arts   \n",
       "1          2  Female   22                 37           74.90  2.32  Education   \n",
       "2          3    Male   22                 10           53.36  2.38   Business   \n",
       "3          4    Male   24                 10           70.26  3.46    Science   \n",
       "4          5    Male   18                 19           74.87  2.31  Education   \n",
       "\n",
       "  PartTimeJob ExtraCurricularActivities  \n",
       "0         Yes                        No  \n",
       "1          No                        No  \n",
       "2          No                        No  \n",
       "3         Yes                        No  \n",
       "4         Yes                        No  "
      ]
     },
     "execution_count": 2,
     "metadata": {},
     "output_type": "execute_result"
    }
   ],
   "source": [
    "students_df = pd.read_csv('student_performance_data.csv')\n",
    "students_df.head()"
   ]
  },
  {
   "cell_type": "code",
   "execution_count": 33,
   "id": "870bdb94-9a2e-47d0-bd7c-e662cba1de55",
   "metadata": {},
   "outputs": [
    {
     "name": "stdout",
     "output_type": "stream",
     "text": [
      "<class 'pandas.core.frame.DataFrame'>\n",
      "RangeIndex: 500 entries, 0 to 499\n",
      "Data columns (total 9 columns):\n",
      " #   Column                     Non-Null Count  Dtype  \n",
      "---  ------                     --------------  -----  \n",
      " 0   StudentID                  500 non-null    int64  \n",
      " 1   Gender                     500 non-null    object \n",
      " 2   Age                        500 non-null    int64  \n",
      " 3   StudyHoursPerWeek          500 non-null    int64  \n",
      " 4   AttendanceRate             500 non-null    float64\n",
      " 5   GPA                        500 non-null    float64\n",
      " 6   Major                      500 non-null    object \n",
      " 7   PartTimeJob                500 non-null    object \n",
      " 8   ExtraCurricularActivities  500 non-null    object \n",
      "dtypes: float64(2), int64(3), object(4)\n",
      "memory usage: 35.3+ KB\n"
     ]
    }
   ],
   "source": [
    "students_df.info()"
   ]
  },
  {
   "cell_type": "markdown",
   "id": "a3a18993-b818-40ad-bdb7-6627e931172a",
   "metadata": {},
   "source": [
    "### (a) For each gender, which major has the highest total study hours per week? "
   ]
  },
  {
   "cell_type": "code",
   "execution_count": 34,
   "id": "543901ae-c248-43c3-9b5b-01f687d9ae08",
   "metadata": {},
   "outputs": [
    {
     "name": "stdout",
     "output_type": "stream",
     "text": [
      "Gender\n",
      "Female    (Female, Business)\n",
      "Male       (Male, Education)\n",
      "Name: StudyHoursPerWeek, dtype: object\n"
     ]
    }
   ],
   "source": [
    "# Grouping the data by Gender and Major, then summing StudyHoursPerWeek\n",
    "study_hours = students_df.groupby(['Gender', 'Major'])['StudyHoursPerWeek'].sum()\n",
    "\n",
    "# Find the major with the highest total study hours for each gender\n",
    "highest_study_hours_per_gender = study_hours.groupby('Gender').idxmax()\n",
    "\n",
    "# Display the result\n",
    "print(highest_study_hours_per_gender)"
   ]
  },
  {
   "cell_type": "markdown",
   "id": "f2c37012-c059-41be-8866-6bb9e62bdfc0",
   "metadata": {},
   "source": [
    "### (b) Which gender has the highest overall average attendance rate? Return the gender and the average attendance rate?"
   ]
  },
  {
   "cell_type": "code",
   "execution_count": 36,
   "id": "7bcdc1ca-8b21-4ca1-aa3d-c311d220c53f",
   "metadata": {},
   "outputs": [
    {
     "data": {
      "text/plain": [
       "('Female', np.float64(75.9257421875))"
      ]
     },
     "execution_count": 36,
     "metadata": {},
     "output_type": "execute_result"
    }
   ],
   "source": [
    "# Calculating the mean attendance rate for each gender\n",
    "average_attendance_by_gender = students_df.groupby('Gender')['AttendanceRate'].mean()\n",
    "\n",
    "# Finding the gender with the highest average attendance rate\n",
    "highest_attendance_gender = average_attendance_by_gender.idxmax()\n",
    "highest_attendance_rate = average_attendance_by_gender.max()\n",
    "\n",
    "highest_attendance_gender, highest_attendance_rate\n"
   ]
  },
  {
   "cell_type": "markdown",
   "id": "a8c7f8a9-a864-44f2-b640-619570f19f30",
   "metadata": {},
   "source": [
    "### (c) What percentage of students have part-time jobs, and what percentage have no part-time jobs?"
   ]
  },
  {
   "cell_type": "code",
   "execution_count": 38,
   "id": "b72cd08e-1339-4074-a37f-14ce8544ba61",
   "metadata": {},
   "outputs": [
    {
     "data": {
      "text/html": [
       "<div>\n",
       "<style scoped>\n",
       "    .dataframe tbody tr th:only-of-type {\n",
       "        vertical-align: middle;\n",
       "    }\n",
       "\n",
       "    .dataframe tbody tr th {\n",
       "        vertical-align: top;\n",
       "    }\n",
       "\n",
       "    .dataframe thead th {\n",
       "        text-align: right;\n",
       "    }\n",
       "</style>\n",
       "<table border=\"1\" class=\"dataframe\">\n",
       "  <thead>\n",
       "    <tr style=\"text-align: right;\">\n",
       "      <th></th>\n",
       "      <th>PartTimeJob</th>\n",
       "      <th>Percentage</th>\n",
       "    </tr>\n",
       "  </thead>\n",
       "  <tbody>\n",
       "    <tr>\n",
       "      <th>0</th>\n",
       "      <td>Yes</td>\n",
       "      <td>53.6</td>\n",
       "    </tr>\n",
       "    <tr>\n",
       "      <th>1</th>\n",
       "      <td>No</td>\n",
       "      <td>46.4</td>\n",
       "    </tr>\n",
       "  </tbody>\n",
       "</table>\n",
       "</div>"
      ],
      "text/plain": [
       "  PartTimeJob  Percentage\n",
       "0         Yes        53.6\n",
       "1          No        46.4"
      ]
     },
     "execution_count": 38,
     "metadata": {},
     "output_type": "execute_result"
    }
   ],
   "source": [
    "# Calculating the percentage of students with and without part-time jobs\n",
    "part_time_job_counts = students_df['PartTimeJob'].value_counts(normalize=True) * 100\n",
    "\n",
    "# Formatting the results into a readable format\n",
    "part_time_job_percentage = part_time_job_counts.reset_index()\n",
    "part_time_job_percentage.columns = ['PartTimeJob', 'Percentage']\n",
    "\n",
    "part_time_job_percentage"
   ]
  },
  {
   "cell_type": "markdown",
   "id": "c8df5f50-212d-4a09-973c-248bee258036",
   "metadata": {},
   "source": [
    "### (d) For each gender, what is the mean GPA and variance of age? "
   ]
  },
  {
   "cell_type": "code",
   "execution_count": 39,
   "id": "b99de837-c5ae-450c-8124-f85e9475003c",
   "metadata": {},
   "outputs": [
    {
     "name": "stdout",
     "output_type": "stream",
     "text": [
      "   Gender   MeanGPA  AgeVariance\n",
      "0  Female  2.995352     4.005637\n",
      "1    Male  2.974467     3.960130\n"
     ]
    }
   ],
   "source": [
    "# Grouping the data by 'Gender' and calculating the mean GPA and variance of age\n",
    "gender_statistics = students_df.groupby('Gender').agg(\n",
    "    MeanGPA=('GPA', 'mean'),\n",
    "    AgeVariance=('Age', 'var')\n",
    ").reset_index()\n",
    "\n",
    "# Displaying the results\n",
    "print(gender_statistics)"
   ]
  },
  {
   "cell_type": "markdown",
   "id": "8969cf61-ce84-4ad9-bb91-0916024e4f24",
   "metadata": {},
   "source": [
    "### (e) Create a visualization that effectively shows if there is a relationship between any two variables of your choice. Your answer must be given in a single pipe."
   ]
  },
  {
   "cell_type": "code",
   "execution_count": 41,
   "id": "2208467f-5cf3-49f7-b315-5ae8a81bdeaa",
   "metadata": {},
   "outputs": [
    {
     "data": {
      "image/png": "[encoded data removed]",
      "text/plain": [
       "<Figure size 1000x600 with 1 Axes>"
      ]
     },
     "metadata": {},
     "output_type": "display_data"
    }
   ],
   "source": [
    "import matplotlib.pyplot as plt\n",
    "import seaborn as sns\n",
    "\n",
    "# Create a scatter plot to visualize the relationship between GPA and StudyHoursPerWeek\n",
    "plt.figure(figsize=(10, 6))\n",
    "sns.scatterplot(data=students_df, x='StudyHoursPerWeek', y='GPA', hue='Gender', alpha=0.7)\n",
    "\n",
    "# Add titles and labels\n",
    "plt.title('Relationship Between GPA and Study Hours Per Week', fontsize=16)\n",
    "plt.xlabel('Study Hours Per Week', fontsize=12)\n",
    "plt.ylabel('GPA', fontsize=12)\n",
    "plt.legend(title='Gender')\n",
    "plt.grid(True)\n",
    "\n",
    "# Show the plot\n",
    "plt.show()\n"
   ]
  },
  {
   "cell_type": "markdown",
   "id": "184a7f16-8f2c-43f2-b5a5-28e31d3e1f97",
   "metadata": {},
   "source": [
    "# 3. Linear regression "
   ]
  },
  {
   "cell_type": "markdown",
   "id": "7298a20f-83f9-464a-9a72-bba9e28180ce",
   "metadata": {},
   "source": [
    "Linear regression aims to predict a continuous target variable by finding the best-fit linear relation\n",
    "ship between the target and the input features. The algorithm models the relationship using a linear\n",
    " equation: y = β0 + β1x + ϵ, where; y is the dependent variable, β’s are the coefficients (weights),\n",
    " x’s are the independent variables, ϵ is the error term. The goal is to find the coefficients (β’s) that\n",
    " minimize the difference between the predicted values and the actual values. This is typically done by\n",
    " minimizing the Mean Squared Error (MSE):\n",
    " MSE = 1\n",
    " n \n",
    "n\n",
    " i=1\n",
    " (y −y)2\n",
    " (1)\n",
    " (a) Briefly describe the steps involved in fitting a linear regression in Python? (2 marks)\n",
    " (b) What assumptions does the linear regression take into consideration? (3 marks)\n",
    " (c) Using the 2020 US Census dataset, train a simple linear regression predicting a continuous tar\n",
    "get variable using the scikit-learn library. From the output coefficients, generate an equation\n",
    " representing the trained simple linear regression? (3 amrks)\n",
    " (d) Compute the Mean Absolute Error (MSE) from your model. (2 marks)\n",
    " (e) Extract and interprete the key outputs from a linear regression model (5 marks)\n",
    " (f) Plot the linear regression model (5 marks)"
   ]
  },
  {
   "cell_type": "code",
   "execution_count": 3,
   "id": "3769d592-01d3-4c76-9070-c1256db005c0",
   "metadata": {},
   "outputs": [],
   "source": [
    "#importing the necessary libraries\n",
    "import pandas as pd\n",
    "import numpy as np"
   ]
  },
  {
   "cell_type": "code",
   "execution_count": 4,
   "id": "ee6a7c63-a672-4bbd-8efd-8fdc545e480d",
   "metadata": {},
   "outputs": [],
   "source": [
    "#importing the dataset\n",
    "census_df = pd.read_excel('Wages_2020Census_cleaned.xlsx')  "
   ]
  },
  {
   "cell_type": "code",
   "execution_count": 5,
   "id": "9291be39-69eb-451a-a28b-bfa2779b0e3f",
   "metadata": {},
   "outputs": [
    {
     "data": {
      "text/plain": [
       "Index(['Age', 'Sex', 'Marital_status', 'Number_of_children', 'Family_size',\n",
       "       'Education-degree_recode', 'Education-degree_recode 2', 'Education',\n",
       "       'Race_ethnicity-multi_recode', 'Immigrate-year', 'Birthplace_recode',\n",
       "       'Speaks_English', 'Employment_status', 'Income-wages', 'Region_recode',\n",
       "       'Region-division_recode', 'Moved', 'Year', 'state'],\n",
       "      dtype='object')"
      ]
     },
     "execution_count": 5,
     "metadata": {},
     "output_type": "execute_result"
    }
   ],
   "source": [
    "census_df.columns"
   ]
  },
  {
   "cell_type": "code",
   "execution_count": 6,
   "id": "a51010a9-09a7-4ef5-b714-726db44b18cf",
   "metadata": {},
   "outputs": [
    {
     "data": {
      "text/html": [
       "<div>\n",
       "<style scoped>\n",
       "    .dataframe tbody tr th:only-of-type {\n",
       "        vertical-align: middle;\n",
       "    }\n",
       "\n",
       "    .dataframe tbody tr th {\n",
       "        vertical-align: top;\n",
       "    }\n",
       "\n",
       "    .dataframe thead th {\n",
       "        text-align: right;\n",
       "    }\n",
       "</style>\n",
       "<table border=\"1\" class=\"dataframe\">\n",
       "  <thead>\n",
       "    <tr style=\"text-align: right;\">\n",
       "      <th></th>\n",
       "      <th>Age</th>\n",
       "      <th>Sex</th>\n",
       "      <th>Marital_status</th>\n",
       "      <th>Number_of_children</th>\n",
       "      <th>Family_size</th>\n",
       "      <th>Education-degree_recode</th>\n",
       "      <th>Education-degree_recode 2</th>\n",
       "      <th>Education</th>\n",
       "      <th>Race_ethnicity-multi_recode</th>\n",
       "      <th>Immigrate-year</th>\n",
       "      <th>Birthplace_recode</th>\n",
       "      <th>Speaks_English</th>\n",
       "      <th>Employment_status</th>\n",
       "      <th>Income-wages</th>\n",
       "      <th>Region_recode</th>\n",
       "      <th>Region-division_recode</th>\n",
       "      <th>Moved</th>\n",
       "      <th>Year</th>\n",
       "      <th>state</th>\n",
       "    </tr>\n",
       "  </thead>\n",
       "  <tbody>\n",
       "    <tr>\n",
       "      <th>0</th>\n",
       "      <td>30</td>\n",
       "      <td>Male</td>\n",
       "      <td>Married, spouse present</td>\n",
       "      <td>2</td>\n",
       "      <td>4</td>\n",
       "      <td>Masterâ€™s or professional degree</td>\n",
       "      <td>Master or professional degree</td>\n",
       "      <td>Master or PhD or professional degree</td>\n",
       "      <td>Non-Hispanic White</td>\n",
       "      <td>0</td>\n",
       "      <td>U.S. state, territory, or outlying region</td>\n",
       "      <td>Yes, speaks only English</td>\n",
       "      <td>Employed</td>\n",
       "      <td>63000</td>\n",
       "      <td>South</td>\n",
       "      <td>East South Central</td>\n",
       "      <td>Same house</td>\n",
       "      <td>2020</td>\n",
       "      <td>Tennessee</td>\n",
       "    </tr>\n",
       "    <tr>\n",
       "      <th>1</th>\n",
       "      <td>28</td>\n",
       "      <td>Female</td>\n",
       "      <td>Married, spouse present</td>\n",
       "      <td>1 child present</td>\n",
       "      <td>3</td>\n",
       "      <td>Masterâ€™s or professional degree</td>\n",
       "      <td>Master or professional degree</td>\n",
       "      <td>Master or PhD or professional degree</td>\n",
       "      <td>Non-Hispanic White</td>\n",
       "      <td>0</td>\n",
       "      <td>U.S. state, territory, or outlying region</td>\n",
       "      <td>Yes, speaks only English</td>\n",
       "      <td>Employed</td>\n",
       "      <td>46000</td>\n",
       "      <td>South</td>\n",
       "      <td>East South Central</td>\n",
       "      <td>Same house</td>\n",
       "      <td>2020</td>\n",
       "      <td>Tennessee</td>\n",
       "    </tr>\n",
       "    <tr>\n",
       "      <th>2</th>\n",
       "      <td>34</td>\n",
       "      <td>Male</td>\n",
       "      <td>Married, spouse present</td>\n",
       "      <td>1 child present</td>\n",
       "      <td>3</td>\n",
       "      <td>Bachelorâ€™s degree</td>\n",
       "      <td>Bachelor degree</td>\n",
       "      <td>Associate or Bachelor degree</td>\n",
       "      <td>Non-Hispanic White</td>\n",
       "      <td>0</td>\n",
       "      <td>U.S. state, territory, or outlying region</td>\n",
       "      <td>Yes, speaks only English</td>\n",
       "      <td>Employed</td>\n",
       "      <td>45000</td>\n",
       "      <td>South</td>\n",
       "      <td>East South Central</td>\n",
       "      <td>Same house</td>\n",
       "      <td>2020</td>\n",
       "      <td>Tennessee</td>\n",
       "    </tr>\n",
       "    <tr>\n",
       "      <th>3</th>\n",
       "      <td>58</td>\n",
       "      <td>Female</td>\n",
       "      <td>Married, spouse absent</td>\n",
       "      <td>1 child present</td>\n",
       "      <td>2</td>\n",
       "      <td>1 or more years of college, no degree</td>\n",
       "      <td>1 or more years of college, no degree</td>\n",
       "      <td>1 or more years of college, no degree</td>\n",
       "      <td>Non-Hispanic White</td>\n",
       "      <td>0</td>\n",
       "      <td>U.S. state, territory, or outlying region</td>\n",
       "      <td>Yes, speaks only English</td>\n",
       "      <td>Employed</td>\n",
       "      <td>55000</td>\n",
       "      <td>South</td>\n",
       "      <td>East South Central</td>\n",
       "      <td>Same house</td>\n",
       "      <td>2020</td>\n",
       "      <td>Tennessee</td>\n",
       "    </tr>\n",
       "    <tr>\n",
       "      <th>4</th>\n",
       "      <td>39</td>\n",
       "      <td>Male</td>\n",
       "      <td>Never married/single</td>\n",
       "      <td>0 children present</td>\n",
       "      <td>1</td>\n",
       "      <td>Bachelorâ€™s degree</td>\n",
       "      <td>Bachelor degree</td>\n",
       "      <td>Associate or Bachelor degree</td>\n",
       "      <td>Non-Hispanic White</td>\n",
       "      <td>0</td>\n",
       "      <td>U.S. state, territory, or outlying region</td>\n",
       "      <td>Yes, speaks only English</td>\n",
       "      <td>Employed</td>\n",
       "      <td>12000</td>\n",
       "      <td>South</td>\n",
       "      <td>East South Central</td>\n",
       "      <td>Same house</td>\n",
       "      <td>2020</td>\n",
       "      <td>Tennessee</td>\n",
       "    </tr>\n",
       "  </tbody>\n",
       "</table>\n",
       "</div>"
      ],
      "text/plain": [
       "   Age     Sex           Marital_status  Number_of_children  Family_size  \\\n",
       "0   30    Male  Married, spouse present                   2            4   \n",
       "1   28  Female  Married, spouse present     1 child present            3   \n",
       "2   34    Male  Married, spouse present     1 child present            3   \n",
       "3   58  Female   Married, spouse absent     1 child present            2   \n",
       "4   39    Male     Never married/single  0 children present            1   \n",
       "\n",
       "                 Education-degree_recode  \\\n",
       "0      Masterâ€™s or professional degree   \n",
       "1      Masterâ€™s or professional degree   \n",
       "2                    Bachelorâ€™s degree   \n",
       "3  1 or more years of college, no degree   \n",
       "4                    Bachelorâ€™s degree   \n",
       "\n",
       "               Education-degree_recode 2  \\\n",
       "0          Master or professional degree   \n",
       "1          Master or professional degree   \n",
       "2                        Bachelor degree   \n",
       "3  1 or more years of college, no degree   \n",
       "4                        Bachelor degree   \n",
       "\n",
       "                               Education Race_ethnicity-multi_recode  \\\n",
       "0   Master or PhD or professional degree          Non-Hispanic White   \n",
       "1   Master or PhD or professional degree          Non-Hispanic White   \n",
       "2           Associate or Bachelor degree          Non-Hispanic White   \n",
       "3  1 or more years of college, no degree          Non-Hispanic White   \n",
       "4           Associate or Bachelor degree          Non-Hispanic White   \n",
       "\n",
       "   Immigrate-year                          Birthplace_recode  \\\n",
       "0               0  U.S. state, territory, or outlying region   \n",
       "1               0  U.S. state, territory, or outlying region   \n",
       "2               0  U.S. state, territory, or outlying region   \n",
       "3               0  U.S. state, territory, or outlying region   \n",
       "4               0  U.S. state, territory, or outlying region   \n",
       "\n",
       "             Speaks_English Employment_status  Income-wages Region_recode  \\\n",
       "0  Yes, speaks only English          Employed         63000         South   \n",
       "1  Yes, speaks only English          Employed         46000         South   \n",
       "2  Yes, speaks only English          Employed         45000         South   \n",
       "3  Yes, speaks only English          Employed         55000         South   \n",
       "4  Yes, speaks only English          Employed         12000         South   \n",
       "\n",
       "  Region-division_recode       Moved  Year      state  \n",
       "0     East South Central  Same house  2020  Tennessee  \n",
       "1     East South Central  Same house  2020  Tennessee  \n",
       "2     East South Central  Same house  2020  Tennessee  \n",
       "3     East South Central  Same house  2020  Tennessee  \n",
       "4     East South Central  Same house  2020  Tennessee  "
      ]
     },
     "execution_count": 6,
     "metadata": {},
     "output_type": "execute_result"
    }
   ],
   "source": [
    "census_df.head()"
   ]
  },
  {
   "cell_type": "code",
   "execution_count": 7,
   "id": "d4fc5aa1-375d-41ce-ab3b-fac69fa68f5f",
   "metadata": {},
   "outputs": [
    {
     "data": {
      "text/html": [
       "<div>\n",
       "<style scoped>\n",
       "    .dataframe tbody tr th:only-of-type {\n",
       "        vertical-align: middle;\n",
       "    }\n",
       "\n",
       "    .dataframe tbody tr th {\n",
       "        vertical-align: top;\n",
       "    }\n",
       "\n",
       "    .dataframe thead th {\n",
       "        text-align: right;\n",
       "    }\n",
       "</style>\n",
       "<table border=\"1\" class=\"dataframe\">\n",
       "  <thead>\n",
       "    <tr style=\"text-align: right;\">\n",
       "      <th></th>\n",
       "      <th>Age</th>\n",
       "      <th>Sex</th>\n",
       "      <th>Marital_status</th>\n",
       "      <th>Number_of_children</th>\n",
       "      <th>Family_size</th>\n",
       "      <th>Education-degree_recode</th>\n",
       "      <th>Education-degree_recode 2</th>\n",
       "      <th>Education</th>\n",
       "      <th>Race_ethnicity-multi_recode</th>\n",
       "      <th>Immigrate-year</th>\n",
       "      <th>Birthplace_recode</th>\n",
       "      <th>Speaks_English</th>\n",
       "      <th>Employment_status</th>\n",
       "      <th>Income-wages</th>\n",
       "      <th>Region_recode</th>\n",
       "      <th>Region-division_recode</th>\n",
       "      <th>Moved</th>\n",
       "      <th>Year</th>\n",
       "      <th>state</th>\n",
       "    </tr>\n",
       "  </thead>\n",
       "  <tbody>\n",
       "    <tr>\n",
       "      <th>4360</th>\n",
       "      <td>67</td>\n",
       "      <td>Male</td>\n",
       "      <td>Married, spouse present</td>\n",
       "      <td>0 children present</td>\n",
       "      <td>2</td>\n",
       "      <td>Bachelorâ€™s degree</td>\n",
       "      <td>Bachelor degree</td>\n",
       "      <td>Associate or Bachelor degree</td>\n",
       "      <td>Non-Hispanic White</td>\n",
       "      <td>0</td>\n",
       "      <td>U.S. state, territory, or outlying region</td>\n",
       "      <td>Yes, speaks only English</td>\n",
       "      <td>Employed</td>\n",
       "      <td>40000</td>\n",
       "      <td>Midwest</td>\n",
       "      <td>West North Central</td>\n",
       "      <td>Same house</td>\n",
       "      <td>2020</td>\n",
       "      <td>North Dakota</td>\n",
       "    </tr>\n",
       "    <tr>\n",
       "      <th>4361</th>\n",
       "      <td>48</td>\n",
       "      <td>Male</td>\n",
       "      <td>Married, spouse present</td>\n",
       "      <td>4</td>\n",
       "      <td>6</td>\n",
       "      <td>Associateâ€™s degree</td>\n",
       "      <td>Associate degree</td>\n",
       "      <td>Associate or Bachelor degree</td>\n",
       "      <td>Non-Hispanic White</td>\n",
       "      <td>0</td>\n",
       "      <td>U.S. state, territory, or outlying region</td>\n",
       "      <td>Yes, speaks only English</td>\n",
       "      <td>Employed</td>\n",
       "      <td>65000</td>\n",
       "      <td>Midwest</td>\n",
       "      <td>West North Central</td>\n",
       "      <td>Same house</td>\n",
       "      <td>2020</td>\n",
       "      <td>North Dakota</td>\n",
       "    </tr>\n",
       "    <tr>\n",
       "      <th>4362</th>\n",
       "      <td>33</td>\n",
       "      <td>Male</td>\n",
       "      <td>Married, spouse absent</td>\n",
       "      <td>0 children present</td>\n",
       "      <td>1</td>\n",
       "      <td>Associateâ€™s degree</td>\n",
       "      <td>Associate degree</td>\n",
       "      <td>Associate or Bachelor degree</td>\n",
       "      <td>Non-Hispanic Black</td>\n",
       "      <td>2017</td>\n",
       "      <td>Africa</td>\n",
       "      <td>Yes, speaks very well</td>\n",
       "      <td>Employed</td>\n",
       "      <td>45000</td>\n",
       "      <td>Midwest</td>\n",
       "      <td>West North Central</td>\n",
       "      <td>Same house</td>\n",
       "      <td>2020</td>\n",
       "      <td>North Dakota</td>\n",
       "    </tr>\n",
       "    <tr>\n",
       "      <th>4363</th>\n",
       "      <td>22</td>\n",
       "      <td>Female</td>\n",
       "      <td>Never married/single</td>\n",
       "      <td>0 children present</td>\n",
       "      <td>2</td>\n",
       "      <td>1 or more years of college, no degree</td>\n",
       "      <td>1 or more years of college, no degree</td>\n",
       "      <td>1 or more years of college, no degree</td>\n",
       "      <td>Non-Hispanic White</td>\n",
       "      <td>0</td>\n",
       "      <td>U.S. state, territory, or outlying region</td>\n",
       "      <td>Yes, speaks only English</td>\n",
       "      <td>Employed</td>\n",
       "      <td>500</td>\n",
       "      <td>Midwest</td>\n",
       "      <td>West North Central</td>\n",
       "      <td>Same house</td>\n",
       "      <td>2020</td>\n",
       "      <td>North Dakota</td>\n",
       "    </tr>\n",
       "    <tr>\n",
       "      <th>4364</th>\n",
       "      <td>49</td>\n",
       "      <td>Female</td>\n",
       "      <td>Married, spouse present</td>\n",
       "      <td>2</td>\n",
       "      <td>4</td>\n",
       "      <td>Masterâ€™s or professional degree</td>\n",
       "      <td>Master or professional degree</td>\n",
       "      <td>Master or PhD or professional degree</td>\n",
       "      <td>Non-Hispanic White</td>\n",
       "      <td>0</td>\n",
       "      <td>U.S. state, territory, or outlying region</td>\n",
       "      <td>Yes, speaks only English</td>\n",
       "      <td>Employed</td>\n",
       "      <td>498000</td>\n",
       "      <td>Midwest</td>\n",
       "      <td>West North Central</td>\n",
       "      <td>Same house</td>\n",
       "      <td>2020</td>\n",
       "      <td>North Dakota</td>\n",
       "    </tr>\n",
       "  </tbody>\n",
       "</table>\n",
       "</div>"
      ],
      "text/plain": [
       "      Age     Sex           Marital_status  Number_of_children  Family_size  \\\n",
       "4360   67    Male  Married, spouse present  0 children present            2   \n",
       "4361   48    Male  Married, spouse present                   4            6   \n",
       "4362   33    Male   Married, spouse absent  0 children present            1   \n",
       "4363   22  Female     Never married/single  0 children present            2   \n",
       "4364   49  Female  Married, spouse present                   2            4   \n",
       "\n",
       "                    Education-degree_recode  \\\n",
       "4360                    Bachelorâ€™s degree   \n",
       "4361                   Associateâ€™s degree   \n",
       "4362                   Associateâ€™s degree   \n",
       "4363  1 or more years of college, no degree   \n",
       "4364      Masterâ€™s or professional degree   \n",
       "\n",
       "                  Education-degree_recode 2  \\\n",
       "4360                        Bachelor degree   \n",
       "4361                       Associate degree   \n",
       "4362                       Associate degree   \n",
       "4363  1 or more years of college, no degree   \n",
       "4364          Master or professional degree   \n",
       "\n",
       "                                  Education Race_ethnicity-multi_recode  \\\n",
       "4360           Associate or Bachelor degree          Non-Hispanic White   \n",
       "4361           Associate or Bachelor degree          Non-Hispanic White   \n",
       "4362           Associate or Bachelor degree          Non-Hispanic Black   \n",
       "4363  1 or more years of college, no degree          Non-Hispanic White   \n",
       "4364   Master or PhD or professional degree          Non-Hispanic White   \n",
       "\n",
       "      Immigrate-year                          Birthplace_recode  \\\n",
       "4360               0  U.S. state, territory, or outlying region   \n",
       "4361               0  U.S. state, territory, or outlying region   \n",
       "4362            2017                                     Africa   \n",
       "4363               0  U.S. state, territory, or outlying region   \n",
       "4364               0  U.S. state, territory, or outlying region   \n",
       "\n",
       "                Speaks_English Employment_status  Income-wages Region_recode  \\\n",
       "4360  Yes, speaks only English          Employed         40000       Midwest   \n",
       "4361  Yes, speaks only English          Employed         65000       Midwest   \n",
       "4362     Yes, speaks very well          Employed         45000       Midwest   \n",
       "4363  Yes, speaks only English          Employed           500       Midwest   \n",
       "4364  Yes, speaks only English          Employed        498000       Midwest   \n",
       "\n",
       "     Region-division_recode       Moved  Year         state  \n",
       "4360     West North Central  Same house  2020  North Dakota  \n",
       "4361     West North Central  Same house  2020  North Dakota  \n",
       "4362     West North Central  Same house  2020  North Dakota  \n",
       "4363     West North Central  Same house  2020  North Dakota  \n",
       "4364     West North Central  Same house  2020  North Dakota  "
      ]
     },
     "execution_count": 7,
     "metadata": {},
     "output_type": "execute_result"
    }
   ],
   "source": [
    "census_df.tail()"
   ]
  },
  {
   "cell_type": "code",
   "execution_count": 8,
   "id": "d8370102-0caa-4d88-be64-1a503bf7a1d2",
   "metadata": {},
   "outputs": [
    {
     "data": {
      "text/plain": [
       "<bound method DataFrame.info of       Age     Sex           Marital_status  Number_of_children  Family_size  \\\n",
       "0      30    Male  Married, spouse present                   2            4   \n",
       "1      28  Female  Married, spouse present     1 child present            3   \n",
       "2      34    Male  Married, spouse present     1 child present            3   \n",
       "3      58  Female   Married, spouse absent     1 child present            2   \n",
       "4      39    Male     Never married/single  0 children present            1   \n",
       "...   ...     ...                      ...                 ...          ...   \n",
       "4360   67    Male  Married, spouse present  0 children present            2   \n",
       "4361   48    Male  Married, spouse present                   4            6   \n",
       "4362   33    Male   Married, spouse absent  0 children present            1   \n",
       "4363   22  Female     Never married/single  0 children present            2   \n",
       "4364   49  Female  Married, spouse present                   2            4   \n",
       "\n",
       "                    Education-degree_recode  \\\n",
       "0         Masterâ€™s or professional degree   \n",
       "1         Masterâ€™s or professional degree   \n",
       "2                       Bachelorâ€™s degree   \n",
       "3     1 or more years of college, no degree   \n",
       "4                       Bachelorâ€™s degree   \n",
       "...                                     ...   \n",
       "4360                    Bachelorâ€™s degree   \n",
       "4361                   Associateâ€™s degree   \n",
       "4362                   Associateâ€™s degree   \n",
       "4363  1 or more years of college, no degree   \n",
       "4364      Masterâ€™s or professional degree   \n",
       "\n",
       "                  Education-degree_recode 2  \\\n",
       "0             Master or professional degree   \n",
       "1             Master or professional degree   \n",
       "2                           Bachelor degree   \n",
       "3     1 or more years of college, no degree   \n",
       "4                           Bachelor degree   \n",
       "...                                     ...   \n",
       "4360                        Bachelor degree   \n",
       "4361                       Associate degree   \n",
       "4362                       Associate degree   \n",
       "4363  1 or more years of college, no degree   \n",
       "4364          Master or professional degree   \n",
       "\n",
       "                                  Education Race_ethnicity-multi_recode  \\\n",
       "0      Master or PhD or professional degree          Non-Hispanic White   \n",
       "1      Master or PhD or professional degree          Non-Hispanic White   \n",
       "2              Associate or Bachelor degree          Non-Hispanic White   \n",
       "3     1 or more years of college, no degree          Non-Hispanic White   \n",
       "4              Associate or Bachelor degree          Non-Hispanic White   \n",
       "...                                     ...                         ...   \n",
       "4360           Associate or Bachelor degree          Non-Hispanic White   \n",
       "4361           Associate or Bachelor degree          Non-Hispanic White   \n",
       "4362           Associate or Bachelor degree          Non-Hispanic Black   \n",
       "4363  1 or more years of college, no degree          Non-Hispanic White   \n",
       "4364   Master or PhD or professional degree          Non-Hispanic White   \n",
       "\n",
       "      Immigrate-year                          Birthplace_recode  \\\n",
       "0                  0  U.S. state, territory, or outlying region   \n",
       "1                  0  U.S. state, territory, or outlying region   \n",
       "2                  0  U.S. state, territory, or outlying region   \n",
       "3                  0  U.S. state, territory, or outlying region   \n",
       "4                  0  U.S. state, territory, or outlying region   \n",
       "...              ...                                        ...   \n",
       "4360               0  U.S. state, territory, or outlying region   \n",
       "4361               0  U.S. state, territory, or outlying region   \n",
       "4362            2017                                     Africa   \n",
       "4363               0  U.S. state, territory, or outlying region   \n",
       "4364               0  U.S. state, territory, or outlying region   \n",
       "\n",
       "                Speaks_English Employment_status  Income-wages Region_recode  \\\n",
       "0     Yes, speaks only English          Employed         63000         South   \n",
       "1     Yes, speaks only English          Employed         46000         South   \n",
       "2     Yes, speaks only English          Employed         45000         South   \n",
       "3     Yes, speaks only English          Employed         55000         South   \n",
       "4     Yes, speaks only English          Employed         12000         South   \n",
       "...                        ...               ...           ...           ...   \n",
       "4360  Yes, speaks only English          Employed         40000       Midwest   \n",
       "4361  Yes, speaks only English          Employed         65000       Midwest   \n",
       "4362     Yes, speaks very well          Employed         45000       Midwest   \n",
       "4363  Yes, speaks only English          Employed           500       Midwest   \n",
       "4364  Yes, speaks only English          Employed        498000       Midwest   \n",
       "\n",
       "     Region-division_recode       Moved  Year         state  \n",
       "0        East South Central  Same house  2020     Tennessee  \n",
       "1        East South Central  Same house  2020     Tennessee  \n",
       "2        East South Central  Same house  2020     Tennessee  \n",
       "3        East South Central  Same house  2020     Tennessee  \n",
       "4        East South Central  Same house  2020     Tennessee  \n",
       "...                     ...         ...   ...           ...  \n",
       "4360     West North Central  Same house  2020  North Dakota  \n",
       "4361     West North Central  Same house  2020  North Dakota  \n",
       "4362     West North Central  Same house  2020  North Dakota  \n",
       "4363     West North Central  Same house  2020  North Dakota  \n",
       "4364     West North Central  Same house  2020  North Dakota  \n",
       "\n",
       "[4365 rows x 19 columns]>"
      ]
     },
     "execution_count": 8,
     "metadata": {},
     "output_type": "execute_result"
    }
   ],
   "source": [
    "census_df.info"
   ]
  },
  {
   "cell_type": "code",
   "execution_count": 9,
   "id": "ee2fe733-6851-4822-81cd-de0a4b5f85f9",
   "metadata": {},
   "outputs": [
    {
     "data": {
      "text/html": [
       "<div>\n",
       "<style scoped>\n",
       "    .dataframe tbody tr th:only-of-type {\n",
       "        vertical-align: middle;\n",
       "    }\n",
       "\n",
       "    .dataframe tbody tr th {\n",
       "        vertical-align: top;\n",
       "    }\n",
       "\n",
       "    .dataframe thead th {\n",
       "        text-align: right;\n",
       "    }\n",
       "</style>\n",
       "<table border=\"1\" class=\"dataframe\">\n",
       "  <thead>\n",
       "    <tr style=\"text-align: right;\">\n",
       "      <th></th>\n",
       "      <th>Age</th>\n",
       "      <th>Family_size</th>\n",
       "      <th>Immigrate-year</th>\n",
       "      <th>Income-wages</th>\n",
       "      <th>Year</th>\n",
       "    </tr>\n",
       "  </thead>\n",
       "  <tbody>\n",
       "    <tr>\n",
       "      <th>count</th>\n",
       "      <td>4365.000000</td>\n",
       "      <td>4365.000000</td>\n",
       "      <td>4365.000000</td>\n",
       "      <td>4365.000000</td>\n",
       "      <td>4365.0</td>\n",
       "    </tr>\n",
       "    <tr>\n",
       "      <th>mean</th>\n",
       "      <td>41.688889</td>\n",
       "      <td>2.964490</td>\n",
       "      <td>360.903551</td>\n",
       "      <td>58704.164948</td>\n",
       "      <td>2020.0</td>\n",
       "    </tr>\n",
       "    <tr>\n",
       "      <th>std</th>\n",
       "      <td>14.287954</td>\n",
       "      <td>1.603552</td>\n",
       "      <td>769.040850</td>\n",
       "      <td>68338.061435</td>\n",
       "      <td>0.0</td>\n",
       "    </tr>\n",
       "    <tr>\n",
       "      <th>min</th>\n",
       "      <td>16.000000</td>\n",
       "      <td>1.000000</td>\n",
       "      <td>0.000000</td>\n",
       "      <td>30.000000</td>\n",
       "      <td>2020.0</td>\n",
       "    </tr>\n",
       "    <tr>\n",
       "      <th>25%</th>\n",
       "      <td>30.000000</td>\n",
       "      <td>2.000000</td>\n",
       "      <td>0.000000</td>\n",
       "      <td>22000.000000</td>\n",
       "      <td>2020.0</td>\n",
       "    </tr>\n",
       "    <tr>\n",
       "      <th>50%</th>\n",
       "      <td>41.000000</td>\n",
       "      <td>3.000000</td>\n",
       "      <td>0.000000</td>\n",
       "      <td>41000.000000</td>\n",
       "      <td>2020.0</td>\n",
       "    </tr>\n",
       "    <tr>\n",
       "      <th>75%</th>\n",
       "      <td>53.000000</td>\n",
       "      <td>4.000000</td>\n",
       "      <td>0.000000</td>\n",
       "      <td>71000.000000</td>\n",
       "      <td>2020.0</td>\n",
       "    </tr>\n",
       "    <tr>\n",
       "      <th>max</th>\n",
       "      <td>87.000000</td>\n",
       "      <td>14.000000</td>\n",
       "      <td>2020.000000</td>\n",
       "      <td>661000.000000</td>\n",
       "      <td>2020.0</td>\n",
       "    </tr>\n",
       "  </tbody>\n",
       "</table>\n",
       "</div>"
      ],
      "text/plain": [
       "               Age  Family_size  Immigrate-year   Income-wages    Year\n",
       "count  4365.000000  4365.000000     4365.000000    4365.000000  4365.0\n",
       "mean     41.688889     2.964490      360.903551   58704.164948  2020.0\n",
       "std      14.287954     1.603552      769.040850   68338.061435     0.0\n",
       "min      16.000000     1.000000        0.000000      30.000000  2020.0\n",
       "25%      30.000000     2.000000        0.000000   22000.000000  2020.0\n",
       "50%      41.000000     3.000000        0.000000   41000.000000  2020.0\n",
       "75%      53.000000     4.000000        0.000000   71000.000000  2020.0\n",
       "max      87.000000    14.000000     2020.000000  661000.000000  2020.0"
      ]
     },
     "execution_count": 9,
     "metadata": {},
     "output_type": "execute_result"
    }
   ],
   "source": [
    "census_df.describe()"
   ]
  },
  {
   "cell_type": "code",
   "execution_count": 10,
   "id": "c6832d0f-6c59-48af-8323-7e54b9aed80c",
   "metadata": {},
   "outputs": [
    {
     "data": {
      "text/plain": [
       "(4365, 19)"
      ]
     },
     "execution_count": 10,
     "metadata": {},
     "output_type": "execute_result"
    }
   ],
   "source": [
    "census_df.shape"
   ]
  },
  {
   "cell_type": "markdown",
   "id": "188e3a78-1ad0-4b25-8bd1-59aa3246728f",
   "metadata": {},
   "source": [
    "### (a) Briefly describe the steps involved in fitting a linear regression in Python? (2 marks)"
   ]
  },
  {
   "cell_type": "code",
   "execution_count": null,
   "id": "6db60b6c-5bd5-4728-84e3-f2924137ef5f",
   "metadata": {},
   "outputs": [],
   "source": []
  },
  {
   "cell_type": "markdown",
   "id": "a53613fc-80a1-477c-b8f4-b672b7b74c21",
   "metadata": {},
   "source": [
    "### (b) What assumptions does the linear regression take into consideration? (3 marks)"
   ]
  },
  {
   "cell_type": "markdown",
   "id": "fe9b0d74-b59c-4841-a237-ca1d0ab739a1",
   "metadata": {},
   "source": [
    "1. Linearity: The independent variables have a linear relationship\n",
    "2. The independent variables must be identically independednt.\n",
    "3. Homoscedascity: There is a constant variance of errors\n",
    "4. Error must follow a normal distribution curve."
   ]
  },
  {
   "cell_type": "markdown",
   "id": "ed442e37-d3ab-44ba-89c9-055cb4bef82f",
   "metadata": {},
   "source": [
    "### (c) Using the 2020 US Census dataset, train a simple linear regression predicting a continuous target variable using the scikit-learn library. From the output coefficients, generate an equation representing the trained simple linear regression? (3 amrks)"
   ]
  },
  {
   "cell_type": "code",
   "execution_count": 11,
   "id": "2f3224fa-be18-4ca2-955a-2d289bb43218",
   "metadata": {},
   "outputs": [],
   "source": [
    "# 1) import the necessary packages\n",
    "\n",
    "import numpy as np\n",
    "import pandas as pd\n",
    "import matplotlib.pyplot as plt\n",
    "from sklearn.linear_model import LinearRegression\n",
    "from sklearn.model_selection import train_test_split\n",
    "from sklearn import metrics"
   ]
  },
  {
   "cell_type": "code",
   "execution_count": 12,
   "id": "95e5d88c-3e7d-409e-a79f-2d2ca30ea01b",
   "metadata": {},
   "outputs": [],
   "source": [
    "#2)Define the data going to be used \n",
    "\n",
    "#independent variables StudyHoursPerWeek and AttendanceRate, call them x\n",
    "x = census_df[['Age']]  # Predictor\n",
    "\n",
    "\n",
    "#dependent variable GPA, call it y\n",
    "y = census_df['Income-wages']  # Target"
   ]
  },
  {
   "cell_type": "code",
   "execution_count": 13,
   "id": "33a5b45c-5ee7-49b9-a338-9d7ca65f0716",
   "metadata": {},
   "outputs": [
    {
     "name": "stdout",
     "output_type": "stream",
     "text": [
      "[42202.03536906 69434.30540949 63080.10906672 76696.24408693\n",
      " 71249.79007885 45833.00470779 73065.27474821 54002.68571991\n",
      " 58541.39739332 59449.139728   73065.27474821 54910.4280546\n",
      " 49463.97404651 97574.31778459 76696.24408693 49463.97404651\n",
      " 71249.79007885 52187.20105055 65803.33607076 64895.59373608\n",
      " 42202.03536906 44925.26237311 63080.10906672 71249.79007885\n",
      " 58541.39739332 78511.7287563  44017.52003843 90312.37910715\n",
      " 63987.8514014  44925.26237311 44925.26237311 48556.23171183\n",
      " 58541.39739332 48556.23171183 39478.80836502 62172.36673204\n",
      " 57633.65505864 43109.77770375 80327.21342566 70342.04774417\n",
      " 76696.24408693 58541.39739332 61264.62439736 56725.91272396\n",
      " 44017.52003843 71249.79007885 68526.56307481 44925.26237311\n",
      " 68526.56307481 68526.56307481 56725.91272396 72157.53241353\n",
      " 46740.74704247 50371.71638119 49463.97404651 78511.7287563\n",
      " 36755.58136098 54002.68571991 77603.98642161 60356.88206268\n",
      " 41294.29303438 44017.52003843 75788.50175225 65803.33607076\n",
      " 36755.58136098 57633.65505864 50371.71638119 47648.48937715\n",
      " 50371.71638119 68526.56307481 57633.65505864 44925.26237311\n",
      " 54910.4280546  44925.26237311 52187.20105055 44925.26237311\n",
      " 70342.04774417 45833.00470779 80327.21342566 48556.23171183\n",
      " 68526.56307481 42202.03536906 69434.30540949 70342.04774417\n",
      " 63080.10906672 44017.52003843 54910.4280546  71249.79007885\n",
      " 48556.23171183 52187.20105055 47648.48937715 47648.48937715\n",
      " 55818.17038928 62172.36673204 52187.20105055 61264.62439736\n",
      " 60356.88206268 78511.7287563  77603.98642161 69434.30540949\n",
      " 59449.139728   64895.59373608 78511.7287563  79419.47109098\n",
      " 54910.4280546  51279.45871587 56725.91272396 67618.82074013\n",
      " 47648.48937715 42202.03536906 48556.23171183 45833.00470779\n",
      " 58541.39739332 52187.20105055 78511.7287563  78511.7287563\n",
      " 49463.97404651 72157.53241353 39478.80836502 45833.00470779\n",
      " 62172.36673204 83050.4404297  45833.00470779 78511.7287563\n",
      " 74880.75941757 82142.69809502 51279.45871587 48556.23171183\n",
      " 49463.97404651 70342.04774417 75788.50175225 54910.4280546\n",
      " 76696.24408693 52187.20105055 57633.65505864 66711.07840545\n",
      " 84865.92509906 72157.53241353 83050.4404297  44925.26237311\n",
      " 72157.53241353 41294.29303438 81234.95576034 56725.91272396\n",
      " 46740.74704247 60356.88206268 46740.74704247 36755.58136098\n",
      " 57633.65505864 46740.74704247 53094.94338523 50371.71638119\n",
      " 83958.18276438 45833.00470779 44017.52003843 81234.95576034\n",
      " 53094.94338523 46740.74704247 67618.82074013 41294.29303438\n",
      " 61264.62439736 51279.45871587 39478.80836502 44017.52003843\n",
      " 62172.36673204 60356.88206268 46740.74704247 54002.68571991\n",
      " 54002.68571991 66711.07840545 47648.48937715 52187.20105055\n",
      " 44017.52003843 73973.01708289 56725.91272396 73065.27474821\n",
      " 64895.59373608 47648.48937715 63987.8514014  60356.88206268\n",
      " 80327.21342566 77603.98642161 59449.139728   83050.4404297\n",
      " 54910.4280546  62172.36673204 73065.27474821 73065.27474821\n",
      " 75788.50175225 55818.17038928 55818.17038928 54002.68571991\n",
      " 44925.26237311 55818.17038928 65803.33607076 73065.27474821\n",
      " 42202.03536906 63080.10906672 60356.88206268 53094.94338523\n",
      " 44925.26237311 62172.36673204 54910.4280546  60356.88206268\n",
      " 48556.23171183 78511.7287563  55818.17038928 65803.33607076\n",
      " 59449.139728   73973.01708289 65803.33607076 78511.7287563\n",
      " 54002.68571991 82142.69809502 48556.23171183 49463.97404651\n",
      " 40386.5506997  41294.29303438 35847.8390263  74880.75941757\n",
      " 45833.00470779 49463.97404651 73973.01708289 76696.24408693\n",
      " 75788.50175225 41294.29303438 63080.10906672 48556.23171183\n",
      " 54910.4280546  37663.32369566 51279.45871587 73065.27474821\n",
      " 65803.33607076 70342.04774417 41294.29303438 70342.04774417\n",
      " 44017.52003843 45833.00470779 80327.21342566 40386.5506997\n",
      " 45833.00470779 41294.29303438 48556.23171183 60356.88206268\n",
      " 46740.74704247 43109.77770375 47648.48937715 76696.24408693\n",
      " 63080.10906672 73973.01708289 76696.24408693 74880.75941757\n",
      " 69434.30540949 77603.98642161 72157.53241353 58541.39739332\n",
      " 50371.71638119 50371.71638119 42202.03536906 54002.68571991\n",
      " 77603.98642161 55818.17038928 46740.74704247 63987.8514014\n",
      " 73065.27474821 77603.98642161 48556.23171183 83958.18276438\n",
      " 47648.48937715 45833.00470779 72157.53241353 41294.29303438\n",
      " 47648.48937715 77603.98642161 43109.77770375 44925.26237311\n",
      " 70342.04774417 42202.03536906 39478.80836502 53094.94338523\n",
      " 76696.24408693 54002.68571991 55818.17038928 74880.75941757\n",
      " 39478.80836502 65803.33607076 72157.53241353 49463.97404651\n",
      " 41294.29303438 39478.80836502 55818.17038928 75788.50175225\n",
      " 59449.139728   84865.92509906 71249.79007885 51279.45871587\n",
      " 44925.26237311 50371.71638119 61264.62439736 75788.50175225\n",
      " 44925.26237311 52187.20105055 52187.20105055 65803.33607076\n",
      " 39478.80836502 48556.23171183 56725.91272396 39478.80836502\n",
      " 55818.17038928 72157.53241353 52187.20105055 65803.33607076\n",
      " 69434.30540949 76696.24408693 74880.75941757 70342.04774417\n",
      " 58541.39739332 39478.80836502 46740.74704247 55818.17038928\n",
      " 45833.00470779 47648.48937715 62172.36673204 69434.30540949\n",
      " 41294.29303438 53094.94338523 42202.03536906 66711.07840545\n",
      " 60356.88206268 54002.68571991 64895.59373608 72157.53241353\n",
      " 79419.47109098 70342.04774417 48556.23171183 61264.62439736\n",
      " 63080.10906672 51279.45871587 49463.97404651 90312.37910715\n",
      " 36755.58136098 84865.92509906 73065.27474821 52187.20105055\n",
      " 57633.65505864 73065.27474821 49463.97404651 44925.26237311\n",
      " 62172.36673204 50371.71638119 54910.4280546  66711.07840545\n",
      " 47648.48937715 48556.23171183 47648.48937715 91220.12144183\n",
      " 60356.88206268 55818.17038928 75788.50175225 48556.23171183\n",
      " 49463.97404651 64895.59373608 44925.26237311 36755.58136098\n",
      " 36755.58136098 76696.24408693 63987.8514014  84865.92509906\n",
      " 77603.98642161 58541.39739332 47648.48937715 79419.47109098\n",
      " 79419.47109098 74880.75941757 69434.30540949 63987.8514014\n",
      " 56725.91272396 59449.139728   54910.4280546  45833.00470779\n",
      " 35847.8390263  78511.7287563  63987.8514014  73065.27474821\n",
      " 55818.17038928 47648.48937715 53094.94338523 72157.53241353\n",
      " 46740.74704247 55818.17038928 37663.32369566 52187.20105055\n",
      " 50371.71638119 68526.56307481 72157.53241353 49463.97404651\n",
      " 48556.23171183 46740.74704247 42202.03536906 77603.98642161\n",
      " 44017.52003843 64895.59373608 58541.39739332 46740.74704247\n",
      " 85773.66743374 45833.00470779 45833.00470779 80327.21342566\n",
      " 52187.20105055 50371.71638119 63080.10906672 71249.79007885\n",
      " 75788.50175225 46740.74704247 83050.4404297  52187.20105055\n",
      " 59449.139728   50371.71638119 42202.03536906 39478.80836502\n",
      " 52187.20105055 40386.5506997  67618.82074013 74880.75941757\n",
      " 43109.77770375 57633.65505864 36755.58136098 58541.39739332\n",
      " 52187.20105055 45833.00470779 55818.17038928 69434.30540949\n",
      " 54910.4280546  52187.20105055 45833.00470779 60356.88206268\n",
      " 77603.98642161 81234.95576034 49463.97404651 81234.95576034\n",
      " 94851.09078055 42202.03536906 38571.06603034 56725.91272396\n",
      " 44017.52003843 47648.48937715 83958.18276438 83958.18276438\n",
      " 48556.23171183 73973.01708289 46740.74704247 80327.21342566\n",
      " 43109.77770375 68526.56307481 75788.50175225 57633.65505864\n",
      " 50371.71638119 42202.03536906 42202.03536906 79419.47109098\n",
      " 83050.4404297  63987.8514014  45833.00470779 75788.50175225\n",
      " 36755.58136098 40386.5506997  49463.97404651 39478.80836502\n",
      " 47648.48937715 66711.07840545 88496.89443778 38571.06603034\n",
      " 59449.139728   68526.56307481 54910.4280546  44017.52003843\n",
      " 49463.97404651 49463.97404651 46740.74704247 78511.7287563\n",
      " 49463.97404651 47648.48937715 71249.79007885 43109.77770375\n",
      " 67618.82074013 61264.62439736 68526.56307481 83958.18276438\n",
      " 47648.48937715 84865.92509906 50371.71638119 53094.94338523\n",
      " 46740.74704247 53094.94338523 42202.03536906 73065.27474821\n",
      " 80327.21342566 50371.71638119 67618.82074013 46740.74704247\n",
      " 52187.20105055 54910.4280546  82142.69809502 55818.17038928\n",
      " 39478.80836502 56725.91272396 54002.68571991 44017.52003843\n",
      " 40386.5506997  69434.30540949 60356.88206268 57633.65505864\n",
      " 57633.65505864 70342.04774417 68526.56307481 66711.07840545\n",
      " 70342.04774417 67618.82074013 56725.91272396 53094.94338523\n",
      " 43109.77770375 61264.62439736 43109.77770375 57633.65505864\n",
      " 74880.75941757 63987.8514014  44017.52003843 46740.74704247\n",
      " 68526.56307481 79419.47109098 38571.06603034 42202.03536906\n",
      " 42202.03536906 43109.77770375 55818.17038928 47648.48937715\n",
      " 71249.79007885 83050.4404297  39478.80836502 43109.77770375\n",
      " 65803.33607076 54910.4280546  37663.32369566 72157.53241353\n",
      " 73065.27474821 36755.58136098 36755.58136098 42202.03536906\n",
      " 77603.98642161 66711.07840545 67618.82074013 65803.33607076\n",
      " 39478.80836502 53094.94338523 62172.36673204 68526.56307481\n",
      " 70342.04774417 58541.39739332 76696.24408693 61264.62439736\n",
      " 86681.40976842 54002.68571991 61264.62439736 75788.50175225\n",
      " 46740.74704247 52187.20105055 44017.52003843 50371.71638119\n",
      " 70342.04774417 48556.23171183 74880.75941757 37663.32369566\n",
      " 42202.03536906 70342.04774417 64895.59373608 64895.59373608\n",
      " 57633.65505864 46740.74704247 54002.68571991 39478.80836502\n",
      " 51279.45871587 55818.17038928 84865.92509906 55818.17038928\n",
      " 61264.62439736 52187.20105055 57633.65505864 39478.80836502\n",
      " 74880.75941757 74880.75941757 74880.75941757 48556.23171183\n",
      " 47648.48937715 72157.53241353 62172.36673204 76696.24408693\n",
      " 64895.59373608 63080.10906672 44017.52003843 44925.26237311\n",
      " 66711.07840545 58541.39739332 44925.26237311 78511.7287563\n",
      " 75788.50175225 72157.53241353 47648.48937715 73973.01708289\n",
      " 51279.45871587 87589.1521031  46740.74704247 69434.30540949\n",
      " 57633.65505864 53094.94338523 42202.03536906 48556.23171183\n",
      " 74880.75941757 44925.26237311 68526.56307481 42202.03536906\n",
      " 59449.139728   55818.17038928 63080.10906672 69434.30540949\n",
      " 47648.48937715 57633.65505864 52187.20105055 41294.29303438\n",
      " 70342.04774417 37663.32369566 69434.30540949 49463.97404651\n",
      " 70342.04774417 73973.01708289 49463.97404651 49463.97404651\n",
      " 46740.74704247 76696.24408693 76696.24408693 49463.97404651\n",
      " 54910.4280546  38571.06603034 53094.94338523 74880.75941757\n",
      " 82142.69809502 66711.07840545 67618.82074013 56725.91272396\n",
      " 46740.74704247 44017.52003843 70342.04774417 64895.59373608\n",
      " 56725.91272396 58541.39739332 37663.32369566 71249.79007885\n",
      " 56725.91272396 72157.53241353 70342.04774417 63080.10906672\n",
      " 51279.45871587 67618.82074013 49463.97404651 44017.52003843\n",
      " 53094.94338523 73065.27474821 46740.74704247 73065.27474821\n",
      " 44925.26237311 48556.23171183 59449.139728   42202.03536906\n",
      " 46740.74704247 70342.04774417 73065.27474821 73973.01708289\n",
      " 80327.21342566 48556.23171183 58541.39739332 52187.20105055\n",
      " 64895.59373608 52187.20105055 73973.01708289 58541.39739332\n",
      " 68526.56307481 63080.10906672 71249.79007885 40386.5506997\n",
      " 63987.8514014  70342.04774417 39478.80836502 66711.07840545\n",
      " 61264.62439736 96666.57544991 55818.17038928 56725.91272396\n",
      " 69434.30540949 58541.39739332 66711.07840545 63080.10906672\n",
      " 56725.91272396 63080.10906672 46740.74704247 61264.62439736\n",
      " 54910.4280546  54002.68571991 81234.95576034 68526.56307481\n",
      " 78511.7287563  67618.82074013 67618.82074013 52187.20105055\n",
      " 42202.03536906 46740.74704247 61264.62439736 74880.75941757\n",
      " 70342.04774417 49463.97404651 54910.4280546  68526.56307481\n",
      " 39478.80836502 41294.29303438 65803.33607076 68526.56307481\n",
      " 53094.94338523 47648.48937715 38571.06603034 45833.00470779\n",
      " 73065.27474821 62172.36673204 85773.66743374 57633.65505864\n",
      " 57633.65505864 51279.45871587 78511.7287563  43109.77770375\n",
      " 46740.74704247 71249.79007885 55818.17038928 63080.10906672\n",
      " 38571.06603034 72157.53241353 57633.65505864 63987.8514014\n",
      " 63987.8514014  80327.21342566 67618.82074013 65803.33607076\n",
      " 66711.07840545 58541.39739332 73973.01708289 73065.27474821\n",
      " 66711.07840545 75788.50175225 81234.95576034 64895.59373608\n",
      " 62172.36673204 54910.4280546  85773.66743374 49463.97404651\n",
      " 42202.03536906 75788.50175225 51279.45871587 73973.01708289\n",
      " 69434.30540949 46740.74704247 65803.33607076 42202.03536906\n",
      " 48556.23171183 66711.07840545 65803.33607076 58541.39739332\n",
      " 48556.23171183 43109.77770375 56725.91272396 62172.36673204\n",
      " 60356.88206268 49463.97404651 77603.98642161 67618.82074013\n",
      " 47648.48937715 52187.20105055 61264.62439736 84865.92509906\n",
      " 70342.04774417 75788.50175225 45833.00470779 79419.47109098\n",
      " 82142.69809502 52187.20105055 72157.53241353 54910.4280546\n",
      " 78511.7287563  73973.01708289 72157.53241353 64895.59373608\n",
      " 59449.139728   37663.32369566 64895.59373608 44017.52003843\n",
      " 41294.29303438 48556.23171183 64895.59373608 50371.71638119\n",
      " 59449.139728   41294.29303438 73973.01708289 77603.98642161\n",
      " 52187.20105055 60356.88206268 80327.21342566 67618.82074013\n",
      " 44017.52003843 80327.21342566 73065.27474821 80327.21342566\n",
      " 61264.62439736 48556.23171183 67618.82074013 63987.8514014\n",
      " 53094.94338523 45833.00470779 58541.39739332 48556.23171183\n",
      " 75788.50175225 59449.139728   70342.04774417 56725.91272396\n",
      " 58541.39739332 61264.62439736 58541.39739332 41294.29303438\n",
      " 51279.45871587 59449.139728   55818.17038928 45833.00470779\n",
      " 39478.80836502 45833.00470779 76696.24408693 65803.33607076\n",
      " 40386.5506997  74880.75941757 46740.74704247 63987.8514014\n",
      " 41294.29303438 61264.62439736 47648.48937715 61264.62439736\n",
      " 84865.92509906 54910.4280546  73065.27474821 51279.45871587\n",
      " 62172.36673204 72157.53241353 51279.45871587 44017.52003843\n",
      " 44017.52003843 50371.71638119 56725.91272396 55818.17038928\n",
      " 46740.74704247 56725.91272396 52187.20105055 56725.91272396\n",
      " 77603.98642161 63987.8514014  59449.139728   76696.24408693\n",
      " 50371.71638119 38571.06603034 66711.07840545 70342.04774417\n",
      " 77603.98642161]\n"
     ]
    }
   ],
   "source": [
    "regr = LinearRegression()\n",
    "\n",
    "X_train, X_test, y_train, y_test = train_test_split(x, y, test_size=0.2, random_state=0)\n",
    "\n",
    "#Call fit() method to train the model\n",
    "regr.fit(X_train, y_train)\n",
    "\n",
    "#Predict Income on test data\n",
    "predictedIncomeWages= regr.predict(X_test)\n",
    "print(predictedIncomeWages)"
   ]
  },
  {
   "cell_type": "code",
   "execution_count": 14,
   "id": "5ff0b114-ba67-4eca-ac64-6ab2c4934143",
   "metadata": {},
   "outputs": [
    {
     "name": "stdout",
     "output_type": "stream",
     "text": [
      "Coefficient: [907.74233468]\n",
      "Intercept: 21323.96167140681\n"
     ]
    }
   ],
   "source": [
    "# Coefficient \n",
    "print(\"Coefficient:\", regr.coef_)  \n",
    "\n",
    "#intercept\n",
    "print(\"Intercept:\", regr.intercept_)  "
   ]
  },
  {
   "cell_type": "code",
   "execution_count": 15,
   "id": "18d4df6a-c078-4b45-9835-75613bd5d634",
   "metadata": {},
   "outputs": [
    {
     "ename": "NameError",
     "evalue": "name 'mx' is not defined",
     "output_type": "error",
     "traceback": [
      "\u001b[1;31m---------------------------------------------------------------------------\u001b[0m",
      "\u001b[1;31mNameError\u001b[0m                                 Traceback (most recent call last)",
      "Cell \u001b[1;32mIn[15], line 2\u001b[0m\n\u001b[0;32m      1\u001b[0m \u001b[38;5;66;03m#REGRESSION EQUATION\u001b[39;00m\n\u001b[1;32m----> 2\u001b[0m y \u001b[38;5;241m=\u001b[39m \u001b[43mmx\u001b[49m \u001b[38;5;241m+\u001b[39m b\n\u001b[0;32m      3\u001b[0m \u001b[38;5;66;03m#y: target variable(income), m: coefficient, x:independent variable(age), b:slope(intercept)\u001b[39;00m\n\u001b[0;32m      5\u001b[0m Income \u001b[38;5;241m=\u001b[39m \u001b[38;5;241m907.74\u001b[39m \u001b[38;5;241m*\u001b[39m age \u001b[38;5;241m+\u001b[39m \u001b[38;5;241m21323.96\u001b[39m\n",
      "\u001b[1;31mNameError\u001b[0m: name 'mx' is not defined"
     ]
    }
   ],
   "source": [
    "#REGRESSION EQUATION\n",
    "y = mx + b\n",
    "#y: target variable(income), m: coefficient, x:independent variable(age), b:slope(intercept)\n",
    "\n",
    "Income = 907.74 * age + 21323.96"
   ]
  },
  {
   "cell_type": "markdown",
   "id": "379f391a-22e7-4689-89ea-21a7398f5d29",
   "metadata": {},
   "source": [
    "### (e) Extract and interprete the key outputs from a linear regression model (5 marks)"
   ]
  },
  {
   "cell_type": "code",
   "execution_count": null,
   "id": "81aacb84-6b49-4e14-b1cd-56ded64a871b",
   "metadata": {},
   "outputs": [],
   "source": []
  },
  {
   "cell_type": "markdown",
   "id": "ab193a26-4309-4526-b14b-34fc70a28fd6",
   "metadata": {},
   "source": [
    "### (f) Plot the linear regression model (5 marks)"
   ]
  },
  {
   "cell_type": "code",
   "execution_count": 16,
   "id": "ab648ec7-d4e1-403b-9b44-9f471b859e0d",
   "metadata": {},
   "outputs": [
    {
     "data": {
      "image/png": "[encoded data removed]",
      "text/plain": [
       "<Figure size 640x480 with 1 Axes>"
      ]
     },
     "metadata": {},
     "output_type": "display_data"
    }
   ],
   "source": [
    "\n",
    "# # Example of actual model prediction\n",
    "predicted_income = regr.predict(X_test)  # Model predictions for test set\n",
    "# y_test = actual_test_values  # Actual income values (target values from test set)\n",
    "\n",
    "# Plotting\n",
    "plt.bar([1, 3, 5, 7, 9, 11, 13, 15, 17, 19],predictedIncomeWages[:10], label='Predicted Value')\n",
    "plt.bar([2, 4, 6, 8, 10, 12, 14, 16, 18, 20], y_test[:10], label='Actual Value', color='r')\n",
    "plt.legend()\n",
    "plt.xlabel('Bar Number')\n",
    "plt.ylabel('Income')\n",
    "plt.title('Predicted Income vs Actual Income')\n",
    "plt.show()"
   ]
  },
  {
   "cell_type": "code",
   "execution_count": null,
   "id": "f47ce50c-befc-4c8f-bc93-e08ffb045ca8",
   "metadata": {},
   "outputs": [],
   "source": []
  },
  {
   "cell_type": "markdown",
   "id": "c0ad3913-7e0a-4b72-b7c1-3178d4653d4e",
   "metadata": {},
   "source": [
    "## 4. Bonus Question."
   ]
  },
  {
   "cell_type": "markdown",
   "id": "9a3c2537-6485-4782-b1af-26120518b490",
   "metadata": {},
   "source": [
    "### (a) Multiply a 5x3 matrix by a 3x2 matrix (real matrix product) (Hint: create a 5x3 and 3x2 matrices and peform matrix multiplication)."
   ]
  },
  {
   "cell_type": "code",
   "execution_count": 17,
   "id": "bf5c48de-72a4-4c5c-b0ff-b31fc31b3dbe",
   "metadata": {},
   "outputs": [
    {
     "name": "stdout",
     "output_type": "stream",
     "text": [
      "First array:\n",
      "[[0.80526008 0.76768919 0.65146392]\n",
      " [0.06181319 0.83890715 0.72985773]\n",
      " [0.71466559 0.59197614 0.50250079]\n",
      " [0.06123513 0.97428977 0.03806656]\n",
      " [0.58536922 0.97671964 0.81618782]]\n",
      "Second array:\n",
      "[[0.4081349  0.30380159]\n",
      " [0.12367428 0.80406555]\n",
      " [0.59244338 0.23035432]]\n",
      "Dot product of two arrays:\n",
      "[[0.80955363 1.01197926]\n",
      " [0.56137873 0.86144117]\n",
      " [0.66259545 0.80885739]\n",
      " [0.16803906 0.81076496]\n",
      " [0.84324977 1.15119511]]\n"
     ]
    }
   ],
   "source": [
    "# Importing the NumPy library\n",
    "import numpy as np\n",
    "\n",
    "# Generating a random array of shape (5, 3)\n",
    "x = np.random.random((5,3))\n",
    "\n",
    "# Displaying the first array\n",
    "print(\"First array:\")\n",
    "print(x)\n",
    "\n",
    "# Generating another random array of shape (3, 2)\n",
    "y = np.random.random((3,2))\n",
    "\n",
    "# Displaying the second array\n",
    "print(\"Second array:\")\n",
    "print(y)\n",
    "\n",
    "# Computing the dot product of the two arrays\n",
    "z = np.dot(x, y)\n",
    "\n",
    "# Displaying the dot product of the arrays\n",
    "print(\"Dot product of two arrays:\")\n",
    "print(z) \n"
   ]
  },
  {
   "cell_type": "markdown",
   "id": "95861fe6-2a76-4386-b3fb-f4d0367f31b0",
   "metadata": {},
   "source": [
    "### (b) Create a 3x3 identity matrix"
   ]
  },
  {
   "cell_type": "code",
   "execution_count": 18,
   "id": "a06364b8-0304-4c1d-b592-79f2abfe2e3e",
   "metadata": {},
   "outputs": [
    {
     "name": "stdout",
     "output_type": "stream",
     "text": [
      "3x3 matrix:\n",
      "[[1. 0. 0.]\n",
      " [0. 1. 0.]\n",
      " [0. 0. 1.]]\n"
     ]
    }
   ],
   "source": [
    "# Importing the NumPy library with an alias 'np'\n",
    "import numpy as np\n",
    "\n",
    "# Creating a 3x3 identity matrix using np.identity()\n",
    "identity_matrix = np.identity(3)\n",
    "\n",
    "# Printing a message indicating a 3x3 matrix\n",
    "print('3x3 matrix:')\n",
    "\n",
    "# Printing the 3x3 identity matrix\n",
    "print(identity_matrix) \n"
   ]
  },
  {
   "cell_type": "markdown",
   "id": "2367e58a-55cd-4eed-95be-1d528f707699",
   "metadata": {},
   "source": [
    "### (c) Create a vector with values ranging from 10 to 49)."
   ]
  },
  {
   "cell_type": "code",
   "execution_count": 19,
   "id": "c040939d-ddd9-495e-abf3-5ed59c501b50",
   "metadata": {},
   "outputs": [
    {
     "name": "stdout",
     "output_type": "stream",
     "text": [
      "[10 11 12 13 14 15 16 17 18 19 20 21 22 23 24 25 26 27 28 29 30 31 32 33\n",
      " 34 35 36 37 38 39 40 41 42 43 44 45 46 47 48]\n"
     ]
    }
   ],
   "source": [
    "# Creating a NumPy array 'v' containing integers from 15 to 54 using np.arange()\n",
    "array = np.arange(10, 49)\n",
    "\n",
    "# Printing the array to see the output\n",
    "print(array)"
   ]
  },
  {
   "cell_type": "markdown",
   "id": "02ebf7b2-df66-4b7d-beff-65abb38c5a43",
   "metadata": {},
   "source": [
    "### (d) Create a null vector of size 10."
   ]
  },
  {
   "cell_type": "code",
   "execution_count": 20,
   "id": "7c17efbd-5092-4795-9fba-0a65dd70bfa9",
   "metadata": {},
   "outputs": [
    {
     "name": "stdout",
     "output_type": "stream",
     "text": [
      "[0. 0. 0. 0. 0. 0. 0. 0. 0. 0.]\n"
     ]
    }
   ],
   "source": [
    "null_vector = np.zeros(10)\n",
    "\n",
    "print(null_vector)"
   ]
  },
  {
   "cell_type": "markdown",
   "id": "25cd6b10-77f6-488d-8bc6-e3f334638a33",
   "metadata": {},
   "source": [
    "###  (e) Create a 3x3x3 array with random values"
   ]
  },
  {
   "cell_type": "code",
   "execution_count": 21,
   "id": "40e88c3c-15bc-4d4f-a61b-032358eb9aa5",
   "metadata": {},
   "outputs": [
    {
     "name": "stdout",
     "output_type": "stream",
     "text": [
      "[[0 0 0 0 0]\n",
      " [1 0 0 0 0]\n",
      " [0 2 0 0 0]\n",
      " [0 0 3 0 0]\n",
      " [0 0 0 4 0]]\n"
     ]
    }
   ],
   "source": [
    "Z = np.diag(1+np.arange(4),k=-1)\n",
    "print(Z)"
   ]
  },
  {
   "cell_type": "code",
   "execution_count": 22,
   "id": "c14ca5c2-4f78-4e29-811c-4b12ecce6f13",
   "metadata": {},
   "outputs": [
    {
     "name": "stdout",
     "output_type": "stream",
     "text": [
      "[[[0.28752809 0.71754942 0.01636972]\n",
      "  [0.98944125 0.22185593 0.47326882]\n",
      "  [0.53614265 0.22315256 0.40091751]]\n",
      "\n",
      " [[0.60276018 0.84963171 0.74693268]\n",
      "  [0.70132723 0.98998048 0.61077507]\n",
      "  [0.03322567 0.96731772 0.35082629]]\n",
      "\n",
      " [[0.01080571 0.55056188 0.92026421]\n",
      "  [0.47824962 0.95740326 0.56435017]\n",
      "  [0.59716959 0.30170467 0.40014536]]]\n"
     ]
    }
   ],
   "source": [
    "x_random = np.random.random((3, 3, 3))\n",
    "\n",
    "# Printing the array 'x_random'\n",
    "print(x_random) "
   ]
  },
  {
   "cell_type": "markdown",
   "id": "1b2dee07-c535-4518-9d9c-bbf91b71bf30",
   "metadata": {},
   "source": [
    "### (f) Create a 5x5 matrix with values 1,2,3,4 just below the diagonal"
   ]
  },
  {
   "cell_type": "code",
   "execution_count": 23,
   "id": "cf34917c-a80d-4224-b163-aeb710e6244c",
   "metadata": {},
   "outputs": [
    {
     "name": "stdout",
     "output_type": "stream",
     "text": [
      "[[0 0 0 0 0]\n",
      " [1 0 0 0 0]\n",
      " [0 2 0 0 0]\n",
      " [0 0 3 0 0]\n",
      " [0 0 0 4 0]]\n"
     ]
    }
   ],
   "source": [
    "Z = np.diag(1+np.arange(4),k=-1)\n",
    "print(Z)"
   ]
  },
  {
   "cell_type": "markdown",
   "id": "8174c7c3-c4dc-45b6-af1a-7517c26344b4",
   "metadata": {},
   "source": [
    "###  (g) Normalize a 5x5 random matrix"
   ]
  },
  {
   "cell_type": "code",
   "execution_count": 25,
   "id": "e48d96d7-f4d4-4a4b-ba09-a15ebd406de5",
   "metadata": {},
   "outputs": [
    {
     "data": {
      "text/plain": [
       "array([[0.01662105, 0.07475811, 0.95491323, 0.31435685, 0.1622775 ],\n",
       "       [0.53396188, 0.49739518, 0.45232024, 0.98648055, 0.03157211],\n",
       "       [0.60887448, 0.75705251, 0.41138151, 0.46101161, 0.16228316],\n",
       "       [0.76942482, 0.52628978, 0.13316889, 0.17344688, 0.1441999 ],\n",
       "       [0.27965676, 0.50442273, 0.83007334, 0.1240258 , 0.15901229]])"
      ]
     },
     "execution_count": 25,
     "metadata": {},
     "output_type": "execute_result"
    }
   ],
   "source": [
    "random_matrix = np.random.rand(5, 5)\n",
    "random_matrix"
   ]
  },
  {
   "cell_type": "markdown",
   "id": "a90adaa7-8305-4672-a711-ce79c2cccb82",
   "metadata": {},
   "source": [
    "### (h) How to get the dates of yesterday, today and tomorrow?"
   ]
  },
  {
   "cell_type": "code",
   "execution_count": 26,
   "id": "d983672d-4a72-4f28-b26a-856b95001691",
   "metadata": {},
   "outputs": [
    {
     "name": "stdout",
     "output_type": "stream",
     "text": [
      "Today:  2024-12-13\n",
      "Yesterday:  2024-12-13\n",
      "Tomorrow:  2024-12-13\n"
     ]
    }
   ],
   "source": [
    "# today's date \n",
    "today = np.datetime64('today', 'D') \n",
    "print(\"Today: \", today) \n",
    "  \n",
    "# yesterday's date \n",
    "yesterday = np.datetime64('today', 'D') \n",
    "- np.timedelta64(1, 'D') \n",
    "  \n",
    "print(\"Yesterday: \", yesterday) \n",
    "  \n",
    "#tomorrow's date\n",
    "tomorrow = np.datetime64('today', 'D') \n",
    "+ np.timedelta64(1, 'D') \n",
    "  \n",
    "print(\"Tomorrow: \", tomorrow) "
   ]
  },
  {
   "cell_type": "markdown",
   "id": "10d1d83e-454c-4ac4-99bf-67ef1722560c",
   "metadata": {},
   "source": [
    "###  (i) Find indices of non-zero elements from [1,2,0,0,4,0]. "
   ]
  },
  {
   "cell_type": "code",
   "execution_count": 27,
   "id": "10dd7cc5-ccfe-4e61-b590-a92a6169c50d",
   "metadata": {},
   "outputs": [
    {
     "name": "stdout",
     "output_type": "stream",
     "text": [
      "[0 1 4]\n"
     ]
    }
   ],
   "source": [
    "# Define the array\n",
    "array = np.array([1, 2, 0, 0, 4, 0])\n",
    "\n",
    "# Find indices of non-zero elements\n",
    "non_zero_indices = np.nonzero(array)[0]\n",
    "\n",
    "# Print the result\n",
    "print(non_zero_indices)"
   ]
  },
  {
   "cell_type": "markdown",
   "id": "08901ce0-3211-44ea-b5df-e94ce033cd30",
   "metadata": {},
   "source": [
    "### REFERENCES"
   ]
  },
  {
   "cell_type": "markdown",
   "id": "b4e069f8-ebd2-4b18-b94c-cbed586c760b",
   "metadata": {},
   "source": [
    "1. Class notes: Mathematical computing\n",
    "2. https://www.geeksforgeeks.org/\n",
    "3. https://www.w3resource.com/"
   ]
  },
  {
   "cell_type": "code",
   "execution_count": null,
   "id": "dbcf2d35-a901-4e82-9bf7-3d5a3e012c79",
   "metadata": {},
   "outputs": [],
   "source": []
  }
 ],
 "metadata": {
  "kernelspec": {
   "display_name": "Python 3 (ipykernel)",
   "language": "python",
   "name": "python3"
  },
  "language_info": {
   "codemirror_mode": {
    "name": "ipython",
    "version": 3
   },
   "file_extension": ".py",
   "mimetype": "text/x-python",
   "name": "python",
   "nbconvert_exporter": "python",
   "pygments_lexer": "ipython3",
   "version": "3.12.6"
  }
 },
 "nbformat": 4,
 "nbformat_minor": 5
}
